{
  "nbformat": 4,
  "nbformat_minor": 0,
  "metadata": {
    "colab": {
      "provenance": [],
      "toc_visible": true,
      "authorship_tag": "ABX9TyOVqhWHfqdaj5hZ1ztXgXDd",
      "include_colab_link": true
    },
    "kernelspec": {
      "name": "python3",
      "display_name": "Python 3"
    },
    "language_info": {
      "name": "python"
    }
  },
  "cells": [
    {
      "cell_type": "markdown",
      "metadata": {
        "id": "view-in-github",
        "colab_type": "text"
      },
      "source": [
        "<a href=\"https://colab.research.google.com/github/ycdanielx/AI-Enterprise-Lab2/blob/master/Flask_Assignment.ipynb\" target=\"_parent\"><img src=\"https://colab.research.google.com/assets/colab-badge.svg\" alt=\"Open In Colab\"/></a>"
      ]
    },
    {
      "cell_type": "code",
      "execution_count": 1,
      "metadata": {
        "id": "pE44i0M_hWj0"
      },
      "outputs": [],
      "source": [
        "import sqlite3\n",
        "\n",
        "conn = sqlite3.connect('students.db')\n",
        "c = conn.cursor()\n",
        "\n",
        "c.execute('''CREATE TABLE students\n",
        "             (student_id INTEGER PRIMARY KEY,\n",
        "              first_name TEXT,\n",
        "              last_name TEXT,\n",
        "              dob DATE,\n",
        "              amount_due REAL)''')\n",
        "\n",
        "conn.commit()\n",
        "conn.close()\n"
      ]
    },
    {
      "cell_type": "code",
      "source": [
        "pip install flask flask_restful flask_sqlalchemy\n"
      ],
      "metadata": {
        "colab": {
          "base_uri": "https://localhost:8080/"
        },
        "id": "McN7L77-he0p",
        "outputId": "23c3f447-36f0-4d92-9695-76c6e179366b"
      },
      "execution_count": 2,
      "outputs": [
        {
          "output_type": "stream",
          "name": "stdout",
          "text": [
            "Looking in indexes: https://pypi.org/simple, https://us-python.pkg.dev/colab-wheels/public/simple/\n",
            "Requirement already satisfied: flask in /usr/local/lib/python3.9/dist-packages (2.2.3)\n",
            "Collecting flask_restful\n",
            "  Downloading Flask_RESTful-0.3.9-py2.py3-none-any.whl (25 kB)\n",
            "Collecting flask_sqlalchemy\n",
            "  Downloading Flask_SQLAlchemy-3.0.3-py3-none-any.whl (24 kB)\n",
            "Requirement already satisfied: Werkzeug>=2.2.2 in /usr/local/lib/python3.9/dist-packages (from flask) (2.2.3)\n",
            "Requirement already satisfied: click>=8.0 in /usr/local/lib/python3.9/dist-packages (from flask) (8.1.3)\n",
            "Requirement already satisfied: itsdangerous>=2.0 in /usr/local/lib/python3.9/dist-packages (from flask) (2.1.2)\n",
            "Requirement already satisfied: Jinja2>=3.0 in /usr/local/lib/python3.9/dist-packages (from flask) (3.1.2)\n",
            "Requirement already satisfied: importlib-metadata>=3.6.0 in /usr/local/lib/python3.9/dist-packages (from flask) (6.1.0)\n",
            "Collecting aniso8601>=0.82\n",
            "  Downloading aniso8601-9.0.1-py2.py3-none-any.whl (52 kB)\n",
            "\u001b[2K     \u001b[90m━━━━━━━━━━━━━━━━━━━━━━━━━━━━━━━━━━━━━━━━\u001b[0m \u001b[32m52.8/52.8 KB\u001b[0m \u001b[31m7.7 MB/s\u001b[0m eta \u001b[36m0:00:00\u001b[0m\n",
            "\u001b[?25hRequirement already satisfied: pytz in /usr/local/lib/python3.9/dist-packages (from flask_restful) (2022.7.1)\n",
            "Requirement already satisfied: six>=1.3.0 in /usr/local/lib/python3.9/dist-packages (from flask_restful) (1.16.0)\n",
            "Requirement already satisfied: SQLAlchemy>=1.4.18 in /usr/local/lib/python3.9/dist-packages (from flask_sqlalchemy) (1.4.47)\n",
            "Requirement already satisfied: zipp>=0.5 in /usr/local/lib/python3.9/dist-packages (from importlib-metadata>=3.6.0->flask) (3.15.0)\n",
            "Requirement already satisfied: MarkupSafe>=2.0 in /usr/local/lib/python3.9/dist-packages (from Jinja2>=3.0->flask) (2.1.2)\n",
            "Requirement already satisfied: greenlet!=0.4.17 in /usr/local/lib/python3.9/dist-packages (from SQLAlchemy>=1.4.18->flask_sqlalchemy) (2.0.2)\n",
            "Installing collected packages: aniso8601, flask_sqlalchemy, flask_restful\n",
            "Successfully installed aniso8601-9.0.1 flask_restful-0.3.9 flask_sqlalchemy-3.0.3\n"
          ]
        }
      ]
    },
    {
      "cell_type": "code",
      "source": [
        "db.create_all()"
      ],
      "metadata": {
        "id": "_rT16m7LiEkJ"
      },
      "execution_count": null,
      "outputs": []
    },
    {
      "cell_type": "code",
      "source": [
        "from flask import Flask\n",
        "from flask_restful import Api, Resource, reqparse\n",
        "from flask_sqlalchemy import SQLAlchemy\n",
        "\n",
        "app = Flask(__name__)\n",
        "app.config['SQLALCHEMY_DATABASE_URI'] = 'sqlite:///students.db'\n",
        "api = Api(app)\n",
        "db = SQLAlchemy(app)\n",
        "\n",
        "class Student(db.Model):\n",
        "    student_id = db.Column(db.Integer, primary_key=True)\n",
        "    first_name = db.Column(db.String(50), nullable=False)\n",
        "    last_name = db.Column(db.String(50), nullable=False)\n",
        "    dob = db.Column(db.Date, nullable=False)\n",
        "    amount_due = db.Column(db.Float, nullable=False)\n",
        "\n",
        "    def __repr__(self):\n",
        "        return f\"Student(student_id={self.student_id}, first_name='{self.first_name}', last_name='{self.last_name}', dob='{self.dob}', amount_due={self.amount_due})\"\n",
        "\n",
        "\n",
        "\n",
        "\n",
        "parser = reqparse.RequestParser()\n",
        "parser.add_argument('first_name', type=str, help='First name of the student', required=True)\n",
        "parser.add_argument('last_name', type=str, help='Last name of the student', required=True)\n",
        "parser.add_argument('dob', type=str, help='Date of birth of the student in format YYYY-MM-DD', required=True)\n",
        "parser.add_argument('amount_due', type=float, help='Amount due from the student', required=True)\n",
        "\n",
        "class StudentList(Resource):\n",
        "    def post(self):\n",
        "        args = parser.parse_args()\n",
        "        student = Student(first_name=args['first_name'], last_name=args['last_name'], dob=args['dob'], amount_due=args['amount_due'])\n",
        "        db.session.add(student)\n",
        "        db.session.commit()\n",
        "        return {'student_id': student.student_id}, 201\n",
        "\n",
        "api.add_resource(StudentList, '/students')\n"
      ],
      "metadata": {
        "id": "psHU_TQwhe3g"
      },
      "execution_count": 5,
      "outputs": []
    },
    {
      "cell_type": "code",
      "source": [
        "class StudentL(Resource):\n",
        "    def get(self, student_id):\n",
        "        student = StudentL.query.filter_by(student_id=student_id).first()\n",
        "        if student is None:\n",
        "            return {'message': 'Student not found'}, 404\n",
        "        return {'student_id': student.student_id, 'first_name': student.first_name, 'last_name': student.last_name, 'dob': str(student.dob), 'amount_due': student.amountDue}\n",
        "\n",
        "api.add_resource(StudentL, '/students/int:student_id')\n",
        "\n",
        "\n"
      ],
      "metadata": {
        "id": "NruiJN9Mhe6J"
      },
      "execution_count": 13,
      "outputs": []
    },
    {
      "cell_type": "code",
      "source": [
        "\n",
        "\n",
        "class StudentUP(Resource):\n",
        "    def put(self, student_id):\n",
        "        student = StudentUP.query.filter_by(student_id=student_id).first()\n",
        "        if student is None:\n",
        "            return {'message': 'Student not found'}, 404\n",
        "        args = parser.parse_args()\n",
        "        student.first_name = args['first_name']\n",
        "        student.last_name = args['last_name']\n",
        "        student.dob = args['dob']\n",
        "        student.amount_due = args['amount_due']\n",
        "        db.session.commit()\n",
        "        return {'message': 'Student updated successfully'}, 200\n",
        "\n",
        "api.add_resource(StudentUP, '/students/<int:student_id>')"
      ],
      "metadata": {
        "id": "FUVwA9lJhe9D"
      },
      "execution_count": 14,
      "outputs": []
    },
    {
      "cell_type": "code",
      "source": [
        "class StudentDEL(Resource):\n",
        "    def delete(self, student_id):\n",
        "        student = StudentDEL.query.filter_by(student_id=student_id).first()\n",
        "        if student is None:\n",
        "            return {'message': 'Student not found'}, 404\n",
        "        db.session.delete(student)\n",
        "        db.session.commit()\n",
        "        return {'message': 'Student deleted successfully'}, 200\n",
        "\n",
        "api.add_resource(StudentDEL, '/students/<int:student_id>')\n"
      ],
      "metadata": {
        "id": "yBtG3XQQhe_q"
      },
      "execution_count": 15,
      "outputs": []
    },
    {
      "cell_type": "code",
      "source": [
        "class StudentList1(Resource):\n",
        "    def get(self):\n",
        "        students = Student.query.all()\n",
        "        return [{'student_id': student.student_id, 'first_name': student.first_name, 'last_name': student.last_name, 'dob': str(student.dob), 'amount_due': student.amount_due} for student in students]\n",
        "\n",
        "api.add_resource(StudentList1, '/students')\n"
      ],
      "metadata": {
        "id": "2rrSef1ShfCo"
      },
      "execution_count": 16,
      "outputs": []
    },
    {
      "cell_type": "code",
      "source": [],
      "metadata": {
        "id": "Ex5-5vAYhfF8"
      },
      "execution_count": null,
      "outputs": []
    }
  ]
}